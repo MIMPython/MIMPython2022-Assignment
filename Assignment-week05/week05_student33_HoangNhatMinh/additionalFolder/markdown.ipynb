{
 "cells": [
  {
   "cell_type": "markdown",
   "source": [
    "# Cách sử dụng markdown\n",
    "\n",
    "# *Mở đầu*\n",
    "Markdown là ngôn ngữ đánh dấu văn bản được tạo ra bởi John Gruber, sử dụng cú pháp khá đơn giản và dễ hiểu, dễ nhớ. Markdown là một ngôn ngữ có chức năng tương tự như HTML để viết các văn bản nhưng có syntax dễ học hơn. Và có thể bạn đang sử dụng nhưng không hề biết, đó chính là định dạng file của readme trong Github.\n",
    "\n",
    "# *Nội dung*\n",
    "\n",
    "## **Header - đầu đề**\n",
    "Bạn có thể viết các lớp tiêu đề h1, h2, h3 cho đến h6 bằng cách thêm số lượng ký tự # tương ứng vào đầu dòng. Một ký tự # tương đương với h1, 2 ký tự # tương đương với h2 ...\n",
    "\n",
    "## **Paragraph - đoạn văn bản, Bold, Italic**\n",
    "Một đoạn kí tự tự do không bắt đầu bằng \\# hay các kí tự đánh dấu header nào khác được gọi là một đoạn văn bản\n",
    "Ta có thể sẽ muốn highlight những tiêu đề của đoạn văn bằng cách kẹp một từ ở đầu và cuối bằng 1 ký tự * để in nghiêng, 2 ký tự ** để bôi đậm, và 3 ký tự *** để vừa in nghiêng vừa bôi đậm.\n",
    "    *in nghiêng*\n",
    "    **bôi đậm**\n",
    "    ***vừa in nghiêng vừa bôi đậm***\n",
    "\n",
    "## **Code block and inline code and block quote**\n",
    "Code block sử dụng cặp \\``` ``` inline code sử dung \\` `\n",
    "```python\n",
    "print(\"This is markdown block code\")\n",
    "print(\"This is yasuo\")\n",
    "print(\"Im Ekko can u hear me?\")\n",
    "```\n",
    "block quote khác với code block do có thể lồng vào nhau tạo thành những khối thông tin bằng dấu '>' và chừa lại một dòng trắng khi muốn chuyển qua viết sub-code-block\n",
    "> Hôm qua tôi nghỉ học\n",
    "> hôm nay tôi nghỉ học\n",
    "> ngày mai tôi nghỉ học\n",
    "> ngày kia tôi nghỉ học\n",
    ">\n",
    ">> tôi bị đình chỉ thi\n",
    ">\n",
    ">>> tôi đăng kí học lại\n",
    ">\n",
    "> rồi tôi lại nghỉ học\n",
    "\n",
    "## **Ordered list**\n",
    "List level của các số thứ tự này phân cách nhau bởi khoảng trắng\n",
    "1. Xin chào bạn có muốn nghỉ học không\n",
    "2. Hôm qua tôi vừa nghỉ Học\n",
    "3. hôm kia tôi cũng nghỉ Học\n",
    "    1. thế bạn có muốn nghỉ học Không\n",
    "        1. Ma trận nghịch đảo\n",
    "    2. số siêu nguyên tố\n",
    "    3. nghỉ Học\n",
    "4. python\n",
    "5. qwqeq\n",
    "\n",
    "## **UnOrdered list**\n",
    "tương tự list level cũng được phân cách bởi những khoảng trắng\n",
    "- Nghỉ học\n",
    "- Nghỉ học\n",
    "- Nghỉ học\n",
    "- Nghỉ học\n",
    "- Nghỉ học\n",
    "    - Nghỉ học\n",
    "        - Nghỉ học\n",
    "            - Nghỉ học\n",
    "\n",
    "## **Images – Hình ảnh**\n",
    "để chèn một hình ảnh ta sử dụng cú pháp `![<alt>](<link tới ảnh>)`\n",
    "Phần trong dấu ngoặc vuông là thuộc tính alt của ảnh (mô tả ảnh, hiển thị khi ảnh bị lỗi)\n",
    "Phần trong dấu ngoặc tròn là đường dẫn ảnh\n",
    "- corki đã là vị tướng semi-ad nổi tiếng với cái tên one hit vì nó bắn quá đau\n",
    "\n",
    "![corki](https://lienminh.garena.vn/gia-lap-2016/downloads/corki.gif)\n",
    "\n",
    "## **Đường kẻ kết thúc**\n",
    "cú pháp:\n",
    "`***` hoặc `---` hoặc `____________________________`\n",
    "\n",
    "## **Hyperlink**\n",
    "hyper link là link có gắn title. tương tự như trong word và các phần mềm soạn thảo khác người ta có thể gắn link và hiển thị ra title của link đó thay thế cho một đường URL rất dài\n",
    "cú pháp `[title](link)`\n",
    "bấm vào đây đi không có virus đâu. [Đây này](https://www.google.com.vn/)\n",
    "ta có thể đơn giản tạo link mà không cần tiêu đề với cặp <>\n",
    "\n",
    "## **Ký tự \"\\\\\" là kí tự escape giúp ta sử dụng những kí tự đặc biệt như kí tự thường**\n",
    "\n",
    "***"
   ],
   "metadata": {
    "collapsed": false,
    "pycharm": {
     "name": "#%% md\n"
    }
   }
  },
  {
   "cell_type": "code",
   "execution_count": null,
   "outputs": [],
   "source": [],
   "metadata": {
    "collapsed": false,
    "pycharm": {
     "name": "#%%\n"
    }
   }
  }
 ],
 "metadata": {
  "kernelspec": {
   "display_name": "Python 3",
   "language": "python",
   "name": "python3"
  },
  "language_info": {
   "codemirror_mode": {
    "name": "ipython",
    "version": 2
   },
   "file_extension": ".py",
   "mimetype": "text/x-python",
   "name": "python",
   "nbconvert_exporter": "python",
   "pygments_lexer": "ipython2",
   "version": "2.7.6"
  }
 },
 "nbformat": 4,
 "nbformat_minor": 0
}